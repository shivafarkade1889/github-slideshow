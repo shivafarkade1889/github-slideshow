{
  "nbformat": 4,
  "nbformat_minor": 0,
  "metadata": {
    "colab": {
      "name": "Untitled5.ipynb",
      "provenance": [],
      "collapsed_sections": [],
      "authorship_tag": "ABX9TyPM/iU3kSazAw5pX/DXyMTD",
      "include_colab_link": true
    },
    "kernelspec": {
      "name": "python3",
      "display_name": "Python 3"
    },
    "language_info": {
      "name": "python"
    }
  },
  "cells": [
    {
      "cell_type": "markdown",
      "metadata": {
        "id": "view-in-github",
        "colab_type": "text"
      },
      "source": [
        "<a href=\"https://colab.research.google.com/github/shivafarkade1889/github-slideshow/blob/master/Shiva-Farkade.ipynb\" target=\"_parent\"><img src=\"https://colab.research.google.com/assets/colab-badge.svg\" alt=\"Open In Colab\"/></a>"
      ]
    },
    {
      "cell_type": "code",
      "metadata": {
        "colab": {
          "base_uri": "https://localhost:8080/"
        },
        "id": "qktxNA5mPx5R",
        "outputId": "28b91523-aa11-4ed8-db28-b8aec5ddbe70"
      },
      "source": [
        "a = (\"peter piper picked a peck of pickled peppers\")\n",
        "b = a.split(' ')\n",
        "c = b[::-1]\n",
        "\n",
        "for i in c:\n",
        "    print(i , end=\" \")"
      ],
      "execution_count": 1,
      "outputs": [
        {
          "output_type": "stream",
          "text": [
            "peppers pickled of peck a picked piper peter "
          ],
          "name": "stdout"
        }
      ]
    },
    {
      "cell_type": "code",
      "metadata": {
        "colab": {
          "base_uri": "https://localhost:8080/"
        },
        "id": "MLRwmkGPQA06",
        "outputId": "29aacfd1-c0c7-4e5b-93cd-b5f35dfc6f34"
      },
      "source": [
        "my_string = ('This is Python class')\n",
        "my_string.split(maxsplit=2)"
      ],
      "execution_count": 2,
      "outputs": [
        {
          "output_type": "execute_result",
          "data": {
            "text/plain": [
              "['This', 'is', 'Python class']"
            ]
          },
          "metadata": {
            "tags": []
          },
          "execution_count": 2
        }
      ]
    },
    {
      "cell_type": "code",
      "metadata": {
        "colab": {
          "base_uri": "https://localhost:8080/"
        },
        "id": "8jMGOypWQEUC",
        "outputId": "35f00dd8-8233-4067-ec24-b5259a71557c"
      },
      "source": [
        "def Sort(sub_li):\n",
        "    l = len(sub_li)\n",
        "    for i in range(0, l):\n",
        "        for j in range(0, l-i-1):\n",
        "            if (sub_li[j][1] > sub_li[j + 1][1]):\n",
        "                tempo = sub_li[j]\n",
        "                sub_li[j]= sub_li[j + 1]\n",
        "                sub_li[j + 1]= tempo\n",
        "    return sub_li\n",
        "\n",
        "sub_li = [(5,4),(9,1),(2,3),(5,9),(7,6),(5,5)] \n",
        "print(Sort(sub_li))"
      ],
      "execution_count": 3,
      "outputs": [
        {
          "output_type": "stream",
          "text": [
            "[(9, 1), (2, 3), (5, 4), (5, 5), (7, 6), (5, 9)]\n"
          ],
          "name": "stdout"
        }
      ]
    }
  ]
}