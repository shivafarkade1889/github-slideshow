{
  "nbformat": 4,
  "nbformat_minor": 0,
  "metadata": {
    "colab": {
      "name": "Untitled2.ipynb",
      "provenance": [],
      "authorship_tag": "ABX9TyOii49gKpCudpv5PXdMhjx7",
      "include_colab_link": true
    },
    "kernelspec": {
      "name": "python3",
      "display_name": "Python 3"
    },
    "language_info": {
      "name": "python"
    }
  },
  "cells": [
    {
      "cell_type": "markdown",
      "metadata": {
        "id": "view-in-github",
        "colab_type": "text"
      },
      "source": [
        "<a href=\"https://colab.research.google.com/github/shivafarkade1889/github-slideshow/blob/master/AssignmentPython.ipynb\" target=\"_parent\"><img src=\"https://colab.research.google.com/assets/colab-badge.svg\" alt=\"Open In Colab\"/></a>"
      ]
    },
    {
      "cell_type": "code",
      "metadata": {
        "id": "b1JwPW_6D6ec"
      },
      "source": [
        "list_of_BikeBrands = [\"Audi\",\"Mercedes\",\"Hero\",\"Honda\"]\n",
        "list_of_CarBrands = [\"Audi\",\"Mercedes-Benz\",\"Hundai\",\"Farari\",\"Volkswagen\"]"
      ],
      "execution_count": 5,
      "outputs": []
    },
    {
      "cell_type": "code",
      "metadata": {
        "colab": {
          "base_uri": "https://localhost:8080/"
        },
        "id": "BG_5KTKWEweN",
        "outputId": "4b8aec55-e4bd-4b72-b214-958ec113e993"
      },
      "source": [
        "list_of_BikeBrands"
      ],
      "execution_count": 6,
      "outputs": [
        {
          "output_type": "execute_result",
          "data": {
            "text/plain": [
              "['Audi', 'Mercedes', 'Hero', 'Honda']"
            ]
          },
          "metadata": {
            "tags": []
          },
          "execution_count": 6
        }
      ]
    },
    {
      "cell_type": "code",
      "metadata": {
        "colab": {
          "base_uri": "https://localhost:8080/"
        },
        "id": "44W6_A5GExuz",
        "outputId": "dc4e4963-ca02-49cc-c3ce-b62f87adf427"
      },
      "source": [
        "list_of_CarBrands"
      ],
      "execution_count": 7,
      "outputs": [
        {
          "output_type": "execute_result",
          "data": {
            "text/plain": [
              "['Audi', 'Mercedes-Benz', 'Hundai', 'Farari', 'Volkswagen']"
            ]
          },
          "metadata": {
            "tags": []
          },
          "execution_count": 7
        }
      ]
    },
    {
      "cell_type": "code",
      "metadata": {
        "id": "d9Vs-8JDF1Z6"
      },
      "source": [
        "list_of_Overlapping = [value for value in list_of_BikeBrands if value in list_of_CarBrands] "
      ],
      "execution_count": 8,
      "outputs": []
    },
    {
      "cell_type": "code",
      "metadata": {
        "colab": {
          "base_uri": "https://localhost:8080/"
        },
        "id": "qUA1yO-6GB2x",
        "outputId": "14516eeb-0f87-4f3b-e0c6-8750f5f0aaef"
      },
      "source": [
        "list_of_Overlapping"
      ],
      "execution_count": 9,
      "outputs": [
        {
          "output_type": "execute_result",
          "data": {
            "text/plain": [
              "['Audi']"
            ]
          },
          "metadata": {
            "tags": []
          },
          "execution_count": 9
        }
      ]
    },
    {
      "cell_type": "code",
      "metadata": {
        "colab": {
          "base_uri": "https://localhost:8080/"
        },
        "id": "p1iyWYIiGgeR",
        "outputId": "a5f64777-99e4-43cc-e5b5-b04fd213f493"
      },
      "source": [
        "for num in range(20, 40):\n",
        "  if num % 2 == 0:\n",
        "        print(num, end = \" \")"
      ],
      "execution_count": 10,
      "outputs": [
        {
          "output_type": "stream",
          "text": [
            "20 22 24 26 28 30 32 34 36 38 "
          ],
          "name": "stdout"
        }
      ]
    }
  ]
}